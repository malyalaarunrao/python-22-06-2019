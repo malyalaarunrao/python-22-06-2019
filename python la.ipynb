{
 "cells": [
  {
   "cell_type": "code",
   "execution_count": 3,
   "metadata": {},
   "outputs": [
    {
     "name": "stdout",
     "output_type": "stream",
     "text": [
      "     A          B    C  D         E    F\n",
      "0  1.0 1999-05-10  1.0  3      test  foo\n",
      "1  1.0 1999-05-10  1.0  3  gcfyjgfc  foo\n",
      "2  1.0 1999-05-10  1.0  3     jhdsg  foo\n",
      "3  1.0 1999-05-10  1.0  3      sdgf  foo\n"
     ]
    }
   ],
   "source": [
    "import numpy as np\n",
    "import pandas as pd\n",
    "a1 = pd.DataFrame({'A':1.,\n",
    "                  'B':pd.Timestamp('19990510'),\n",
    "                  'C':pd.Series(1,index=list(range(4)),dtype='float32'),\n",
    "                  'D':np.array([3]*4,dtype='int32'),\n",
    "                  'E':pd.Categorical([\"test\",\"gcfyjgfc\",\"jhdsg\",\"sdgf\"]),\n",
    "                  'F':'foo'})\n",
    "print(a1)"
   ]
  },
  {
   "cell_type": "markdown",
   "metadata": {},
   "source": [
    "## Turtile is python feature like drawing board"
   ]
  },
  {
   "cell_type": "markdown",
   "metadata": {},
   "source": [
    "## import turtle               # allows us to use the turtles library\n",
    "## wn = turtle.Screen()        # creates a graphics window\n",
    "## alex = turtle.Turtle()      # create a turtle named alex\n",
    "## alex.forward(150)           # tell alex to move forward by 150 units\n",
    "## alex.left(90)               # turn by 90 degrees\n",
    "## alex.forward(75)            # complete the second side of a rectangle\n"
   ]
  },
  {
   "cell_type": "code",
   "execution_count": 8,
   "metadata": {},
   "outputs": [],
   "source": [
    "import turtle\n",
    "wn = turtle.Screen()\n",
    "alex = turtle.Turtle()\n",
    "alex.forward(150)\n",
    "alex.left(90)\n",
    "alex.forward(75)\n"
   ]
  },
  {
   "cell_type": "code",
   "execution_count": null,
   "metadata": {},
   "outputs": [],
   "source": [
    "import turtle\n",
    "cl = tt.turtle()\n",
    "cl.pencolour(\"red\")\n",
    "for i in range(50):\n",
    "    cl.forward(100)\n",
    "    cl.left(45)"
   ]
  },
  {
   "cell_type": "code",
   "execution_count": 24,
   "metadata": {},
   "outputs": [],
   "source": [
    "# import turtle library\n",
    "import turtle             \n",
    "my_pen = turtle.Turtle()      \n",
    "for i in range(500):\n",
    "    my_pen.forward(50)           \n",
    "    my_pen.right(144)               \n",
    "turtle.done()\n"
   ]
  },
  {
   "cell_type": "code",
   "execution_count": 42,
   "metadata": {},
   "outputs": [
    {
     "ename": "AttributeError",
     "evalue": "'Turtle' object has no attribute 'forword'",
     "output_type": "error",
     "traceback": [
      "\u001b[1;31m---------------------------------------------------------------------------\u001b[0m",
      "\u001b[1;31mAttributeError\u001b[0m                            Traceback (most recent call last)",
      "\u001b[1;32m<ipython-input-42-a4b83b843a92>\u001b[0m in \u001b[0;36m<module>\u001b[1;34m\u001b[0m\n\u001b[0;32m     13\u001b[0m     \u001b[1;32mfor\u001b[0m \u001b[0mi\u001b[0m \u001b[1;32min\u001b[0m \u001b[0mrange\u001b[0m\u001b[1;33m(\u001b[0m\u001b[0mwidth\u001b[0m\u001b[1;33m)\u001b[0m\u001b[1;33m:\u001b[0m\u001b[1;33m\u001b[0m\u001b[1;33m\u001b[0m\u001b[0m\n\u001b[0;32m     14\u001b[0m         \u001b[0ma1\u001b[0m\u001b[1;33m.\u001b[0m\u001b[0mdot\u001b[0m\u001b[1;33m(\u001b[0m\u001b[1;33m)\u001b[0m\u001b[1;33m\u001b[0m\u001b[1;33m\u001b[0m\u001b[0m\n\u001b[1;32m---> 15\u001b[1;33m         \u001b[0ma1\u001b[0m\u001b[1;33m.\u001b[0m\u001b[0mforword\u001b[0m\u001b[1;33m(\u001b[0m\u001b[0mdot_distance\u001b[0m\u001b[1;33m)\u001b[0m\u001b[1;33m\u001b[0m\u001b[1;33m\u001b[0m\u001b[0m\n\u001b[0m\u001b[0;32m     16\u001b[0m     \u001b[0ma1\u001b[0m\u001b[1;33m.\u001b[0m\u001b[0mforword\u001b[0m\u001b[1;33m(\u001b[0m\u001b[0mdot_distance\u001b[0m\u001b[1;33m=\u001b[0m \u001b[0mwidth\u001b[0m\u001b[1;33m)\u001b[0m\u001b[1;33m\u001b[0m\u001b[1;33m\u001b[0m\u001b[0m\n\u001b[0;32m     17\u001b[0m     \u001b[0ma1\u001b[0m\u001b[1;33m.\u001b[0m\u001b[0mright\u001b[0m\u001b[1;33m(\u001b[0m\u001b[1;36m90\u001b[0m\u001b[1;33m)\u001b[0m\u001b[1;33m\u001b[0m\u001b[1;33m\u001b[0m\u001b[0m\n",
      "\u001b[1;31mAttributeError\u001b[0m: 'Turtle' object has no attribute 'forword'"
     ]
    }
   ],
   "source": [
    "import turtle as tt\n",
    "a1 = tt.Turtle()\n",
    "\n",
    "colors = ['red','yellow','green','purple']\n",
    "dot_distance = 10\n",
    "width = 10\n",
    "height = 15\n",
    "\n",
    "a1.penup()\n",
    "\n",
    "for x in range(height):\n",
    "    a1.pencolor(colors[x%6])\n",
    "    for i in range(width):\n",
    "        a1.dot()\n",
    "        a1.forword(dot_distance)\n",
    "    a1.forword(dot_distance= width)\n",
    "    a1.right(90)\n",
    "    a1.forword(dot_distance)\n",
    "    a1.forword(90)\n",
    "tt.done()"
   ]
  },
  {
   "cell_type": "code",
   "execution_count": 48,
   "metadata": {},
   "outputs": [],
   "source": [
    "# import turtle library\n",
    "import turtle             \n",
    "my_wn = turtle.Screen()\n",
    "my_wn.bgcolor(\"light blue\")\n",
    "my_wn.title(\"Turtle\")\n",
    "my_pen = turtle.Turtle()\n",
    "my_pen.color(\"black\")\n",
    "def my_sqrfunc(size):\n",
    "    for i in range(4):\n",
    "      my_pen.fd(size)\n",
    "      my_pen.left(90)\n",
    "      size = size - 5\n",
    "my_sqrfunc(146)\n",
    "my_sqrfunc(126)\n",
    "my_sqrfunc(106)\n",
    "my_sqrfunc(86)\n",
    "my_sqrfunc(66)\n",
    "my_sqrfunc(46)\n",
    "my_sqrfunc(26)"
   ]
  },
  {
   "cell_type": "code",
   "execution_count": 40,
   "metadata": {},
   "outputs": [],
   "source": [
    "# import turtle library\n",
    "import turtle             \n",
    "colors = [ \"red\",\"purple\",\"blue\",\"green\",\"orange\",\"yellow\"]\n",
    "my_pen = turtle.Pen()\n",
    "turtle.bgcolor(\"black\")\n",
    "for x in range(360):\n",
    "   my_pen.pencolor(colors[x % 6])\n",
    "   my_pen.width(x/100 + 1)\n",
    "   my_pen.forward(x)\n",
    "   my_pen.left(59)"
   ]
  },
  {
   "cell_type": "code",
   "execution_count": 65,
   "metadata": {},
   "outputs": [],
   "source": [
    "# import turtle library\n",
    "import turtle  \n",
    "def main():\n",
    "    colors = [ \"red\",\"purple\",\"blue\",\"green\",\"orange\",\"yellow\",\"pink\"]\n",
    "    reset()\n",
    "    screen()\n",
    "    up()\n",
    "    goto(-320,-195)\n",
    "    width(90)\n",
    "    for pencolor in colors:\n",
    "        color(pcolor)\n",
    "        down()\n",
    "        forword(640)\n",
    "        up()\n",
    "        backword(640)\n",
    "        left(90)\n",
    "        forword(66)\n",
    "        right(90)\n",
    "    \n",
    "    width(55)\n",
    "    color(\"white\")\n",
    "    goto(0,-170)\n",
    "    down()\n",
    "    \n",
    "    circle(170)\n",
    "    left(90)\n",
    "    forword(340)\n",
    "    up()\n",
    "    left(180)\n",
    "    forword(170)\n",
    "    right(45)\n",
    "    down()\n",
    "    forword(170)\n",
    "    up()\n",
    "    backword(170)\n",
    "    left(90)\n",
    "    down()\n",
    "    forword(170)\n",
    "    up()\n",
    "    goto(0,-170)\n",
    "\n",
    "    if name == \"main\":\n",
    "        main()\n",
    "        mainlop()\n",
    "    "
   ]
  },
  {
   "cell_type": "code",
   "execution_count": 63,
   "metadata": {},
   "outputs": [],
   "source": [
    "# import turtle library\n",
    "import turtle             \n",
    "my_wn = turtle.Screen()\n",
    "turtle.speed(2)\n",
    "for i in range(30):\n",
    "   turtle.circle(5*i)\n",
    "   turtle.circle(-5*i)\n",
    "   turtle.left(i)\n",
    "turtle.exitonclick()"
   ]
  },
  {
   "cell_type": "code",
   "execution_count": null,
   "metadata": {},
   "outputs": [],
   "source": []
  }
 ],
 "metadata": {
  "kernelspec": {
   "display_name": "Python 3",
   "language": "python",
   "name": "python3"
  }
 },
 "nbformat": 4,
 "nbformat_minor": 2
}
