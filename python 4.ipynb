{
 "cells": [
  {
   "cell_type": "code",
   "execution_count": 13,
   "metadata": {},
   "outputs": [
    {
     "name": "stdout",
     "output_type": "stream",
     "text": [
      "this is 0 line\n"
     ]
    }
   ],
   "source": [
    "#funtion for reading the file data\n",
    "def readFile(filename):\n",
    "    f = open(filename,\"r\")\n",
    "    if f.mode  == \"r\":\n",
    "        x = f.read()\n",
    "        print(x)\n",
    "    f.close()\n",
    "    return\n",
    "readFile(\"file.txt\")\n",
    "        "
   ]
  },
  {
   "cell_type": "code",
   "execution_count": 18,
   "metadata": {},
   "outputs": [
    {
     "name": "stdout",
     "output_type": "stream",
     "text": [
      "2\n"
     ]
    }
   ],
   "source": [
    "x = {1:'1',2:'2',3:'3'}\n",
    "del x[1]\n",
    "x[1] = '10'\n",
    "del x[2]\n",
    "print(len(x))"
   ]
  },
  {
   "cell_type": "code",
   "execution_count": 56,
   "metadata": {},
   "outputs": [
    {
     "name": "stdout",
     "output_type": "stream",
     "text": [
      "5\n"
     ]
    }
   ],
   "source": [
    "def dataAnalysislineCount(filename,line):\n",
    "    f = open(filename,\"r\")\n",
    "    if f.mode == \"r\":\n",
    "        x = f.read()\n",
    "        lst = x.split()\n",
    "    cnt = lst.count(line)\n",
    "    return cnt\n",
    "print(dataAnalysislineCount(\"file1.txt\",\"line\"))"
   ]
  },
  {
   "cell_type": "code",
   "execution_count": 40,
   "metadata": {},
   "outputs": [
    {
     "name": "stdout",
     "output_type": "stream",
     "text": [
      "20\n"
     ]
    }
   ],
   "source": [
    "# Function to count of characters in the file\n",
    "def countCharacter(filename):\n",
    "    f = open(filename,\"r\")\n",
    "    if f.mode == \"r\":\n",
    "        x = f.read()\n",
    "        lst = list(x)\n",
    "    return len(lst)\n",
    "print(countCharacter(\"file3.txt\"))"
   ]
  },
  {
   "cell_type": "code",
   "execution_count": 38,
   "metadata": {},
   "outputs": [
    {
     "name": "stdout",
     "output_type": "stream",
     "text": [
      "151\n"
     ]
    }
   ],
   "source": [
    "def countcharacter(filename):\n",
    "    f=open(filename,\"r\")\n",
    "    if f.mode ==\"r\":\n",
    "        x=f.read()\n",
    "        lst=list(x)\n",
    "    return len(lst)\n",
    "print(countcharacter(\"file1.txt\"))\n"
   ]
  },
  {
   "cell_type": "code",
   "execution_count": 47,
   "metadata": {},
   "outputs": [
    {
     "data": {
      "text/plain": [
       "7"
      ]
     },
     "execution_count": 47,
     "metadata": {},
     "output_type": "execute_result"
    }
   ],
   "source": [
    "def upperCaseCount(filename):\n",
    "    cntupper = 0\n",
    "    f=open(filename,\"r\")\n",
    "    if f.mode ==\"r\":\n",
    "        x=f.read()\n",
    "        lst=list(x)\n",
    "    for i in lst:\n",
    "        if i.isupper():\n",
    "            cntupper  += 1\n",
    "    return cntupper\n",
    "upperCaseCount(\"file1.txt\")"
   ]
  },
  {
   "cell_type": "code",
   "execution_count": 62,
   "metadata": {},
   "outputs": [
    {
     "data": {
      "text/plain": [
       "30"
      ]
     },
     "execution_count": 62,
     "metadata": {},
     "output_type": "execute_result"
    }
   ],
   "source": [
    "def upperCaseCount(filename):\n",
    "    cntupper = 0\n",
    "    f=open(filename,\"r\")\n",
    "    if f.mode ==\"r\":\n",
    "        x=f.read()\n",
    "        lst=list(x)\n",
    "    for i in lst:\n",
    "        if i.isupper():\n",
    "            cntupper+= 1\n",
    "    return cntupper\n",
    "upperCaseCount(\"file3.txt\")"
   ]
  },
  {
   "cell_type": "code",
   "execution_count": 60,
   "metadata": {},
   "outputs": [
    {
     "data": {
      "text/plain": [
       "12"
      ]
     },
     "execution_count": 60,
     "metadata": {},
     "output_type": "execute_result"
    }
   ],
   "source": [
    "# Funtion to count lines in a given line \n",
    "def countLines(filename):\n",
    "    f=open(filename,\"r\")\n",
    "    if f.mode ==\"r\":\n",
    "        x=f.read()\n",
    "        lst = x.split(\"\\n\")\n",
    "    return len(lst)\n",
    "countLines(\"file1.txt\")"
   ]
  },
  {
   "cell_type": "code",
   "execution_count": 65,
   "metadata": {},
   "outputs": [
    {
     "data": {
      "text/plain": [
       "50"
      ]
     },
     "execution_count": 65,
     "metadata": {},
     "output_type": "execute_result"
    }
   ],
   "source": [
    "def CaseCount(filename):\n",
    "    cntupper = 0\n",
    "    f=open(filename,\"r\")\n",
    "    if f.mode ==\"r\":\n",
    "        x=f.read()\n",
    "        lst=list(x)\n",
    "    for i in lst:\n",
    "        if i.upper():\n",
    "            cntupper+= 1\n",
    "    return cntupper\n",
    "CaseCount(\"file3.txt\")"
   ]
  },
  {
   "cell_type": "markdown",
   "metadata": {},
   "source": [
    "# Regular expressions\n",
    "##  pattern matching\n",
    "## symbolic notation of a pattern\n",
    "   ### pattern(RE) represents the set of \n",
    "## [0 - 9] - any digit\n",
    "\n",
    "## [A - Z] - upper case \n",
    "\n",
    "## [a - z] - lower case\n",
    "\n",
    "## [2468] - all single digit number multiple of two\n",
    "## ^[0-9]{1}$  -- oniy single digit number\n",
    "\n",
    "   ## cap - symbol is used for start of regular expressions \n",
    "   ## dollar - symbl is used for stop of regular expressions \n",
    "## ^[0-9]$  -- regular expressions will accept only three digit number\n",
    "\n",
    "## ^[a-z]$  -- it only accept only 3 charaters string\n",
    "\n",
    "## ^[a-zA-Z]{4}$ -- A string can be upper or lower chars and len of 4\n",
    "\n",
    "## ^[a-zA-Z1-9]$ -- lower or upper or digit\n",
    "\n",
    "  ## ^[6-9][0-9]{9}$ -- RE for indian mobile number\n",
    "  \n",
    "  ## ^[0][6-9][0-9]{9}$ --RE for indian mobile number\n",
    "                          \n",
    "  ##  [+][9][1][6-9]{9}$ -- RE for indian mobile number\n",
    "  "
   ]
  },
  {
   "cell_type": "code",
   "execution_count": 32,
   "metadata": {},
   "outputs": [
    {
     "name": "stdout",
     "output_type": "stream",
     "text": [
      "True\n",
      "True\n"
     ]
    }
   ],
   "source": [
    "import re\n",
    "def phoneNumberVaildate(phone):\n",
    "    pattern = '^[6-9][0-9]{9}$'\n",
    "    phone = str(phone)\n",
    "    if re.match(pattern,phone):\n",
    "            return True\n",
    "    return False\n",
    "print(phoneNumberVaildate(771037590))\n",
    "print(phoneNumberVaildate(7731037544))"
   ]
  },
  {
   "cell_type": "code",
   "execution_count": 8,
   "metadata": {},
   "outputs": [
    {
     "name": "stdout",
     "output_type": "stream",
     "text": [
      "False\n",
      "True\n"
     ]
    }
   ],
   "source": [
    "import re\n",
    "def phoneNumberVaildate(phone):\n",
    "    pattern = '^[6-9][0-9]{9}$' \n",
    "    phone = str(phone)\n",
    "    if re.match(pattern,phone):\n",
    "            return True\n",
    "    return False\n",
    "print(phoneNumberVaildate(771037590))\n",
    "print(phoneNumberVaildate(7731037544))"
   ]
  },
  {
   "cell_type": "code",
   "execution_count": 7,
   "metadata": {},
   "outputs": [
    {
     "name": "stdout",
     "output_type": "stream",
     "text": [
      "True\n",
      "False\n"
     ]
    }
   ],
   "source": [
    "import re\n",
    "def validateRollNumber(number):\n",
    "    number = str(number)\n",
    "    pattern = '^[1][5][2][U][1][A][0][1-4]$'\n",
    "    if re.match(pattern,number):\n",
    "        return True\n",
    "    return False\n",
    "print(validateRollNumber(\"152U1A01\"))\n",
    "print(validateRollNumber(\"UYTEFUWEF\"))"
   ]
  },
  {
   "cell_type": "markdown",
   "metadata": {},
   "source": [
    "# Assignments :-\n",
    "## 1,file on the virtual machine or local machine\n",
    "## 2,Need to write the data to the file\n",
    "## 3,Need to return the count of lower case characters \n",
    "## 4,Need to return the count  of digits\n",
    "## 5,Need to return the count of spl characters\n",
    "## 6,Need to create a file which these parameters name ,EmailID\n",
    "   ## Mobile number \n",
    "   \n",
    "   ## vaildate the EmailID\n",
    "   \n",
    "   ## vaildate the mobile number\n",
    "       "
   ]
  },
  {
   "cell_type": "code",
   "execution_count": null,
   "metadata": {},
   "outputs": [],
   "source": []
  }
 ],
 "metadata": {
  "kernelspec": {
   "display_name": "Python 3",
   "language": "python",
   "name": "python3"
  },
  "language_info": {
   "codemirror_mode": {
    "name": "ipython",
    "version": 3
   },
   "file_extension": ".py",
   "mimetype": "text/x-python",
   "name": "python",
   "nbconvert_exporter": "python",
   "pygments_lexer": "ipython3",
   "version": "3.7.3"
  }
 },
 "nbformat": 4,
 "nbformat_minor": 2
}
