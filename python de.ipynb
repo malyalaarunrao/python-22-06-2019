{
 "cells": [
  {
   "cell_type": "code",
   "execution_count": 8,
   "metadata": {},
   "outputs": [
    {
     "name": "stdout",
     "output_type": "stream",
     "text": [
      "24\n"
     ]
    }
   ],
   "source": [
    "class Demo1:\n",
    "    def fact(self,n):\n",
    "        #return the factorial\n",
    "        fact = 1\n",
    "        while(n!=0):\n",
    "            fact = fact * n\n",
    "            n = n - 1\n",
    "        return fact\n",
    "    \n",
    "p1= Demo1()\n",
    "print(p1.fact(4))\n",
    "        "
   ]
  },
  {
   "cell_type": "markdown",
   "metadata": {},
   "source": [
    "## python, the concept oop follow these things\n",
    "\n",
    "##  Inheritance\n",
    "##  Encapsulation :-Wrap the data into single\n",
    "##  polymorphism"
   ]
  },
  {
   "cell_type": "code",
   "execution_count": 20,
   "metadata": {},
   "outputs": [
    {
     "name": "stdout",
     "output_type": "stream",
     "text": [
      "700\n"
     ]
    }
   ],
   "source": [
    "class demo2:\n",
    "    def __init__(self,p1,p2):\n",
    "        self.p1=p1\n",
    "        self.p2=p2\n",
    "    def add(self,p1,p2):\n",
    "            return p1+p2\n",
    "c1=demo2(10,20)\n",
    "print(c1.add(500,200))\n",
    "\n",
    "    "
   ]
  },
  {
   "cell_type": "markdown",
   "metadata": {},
   "source": [
    "# Pytho Numpy\n",
    "  ## Numpy arrays is a bit like python list\n",
    "  ## Numpy arrays is acentral data structure of the numpy lib\n",
    "  ## lib actually short for numeric python "
   ]
  },
  {
   "cell_type": "code",
   "execution_count": 21,
   "metadata": {},
   "outputs": [
    {
     "name": "stdout",
     "output_type": "stream",
     "text": [
      "[1, 2, 3]\n"
     ]
    }
   ],
   "source": [
    "lst = [1,2,3]\n",
    "print(lst)"
   ]
  },
  {
   "cell_type": "code",
   "execution_count": 25,
   "metadata": {},
   "outputs": [
    {
     "name": "stdout",
     "output_type": "stream",
     "text": [
      "[3 5 7 8]\n"
     ]
    }
   ],
   "source": [
    "import numpy as np\n",
    "lst = [3,5,7,8]\n",
    "array = np.array(lst)\n",
    "print(array)"
   ]
  },
  {
   "cell_type": "code",
   "execution_count": 30,
   "metadata": {},
   "outputs": [
    {
     "name": "stdout",
     "output_type": "stream",
     "text": [
      "(4,)\n",
      "int32\n"
     ]
    }
   ],
   "source": [
    "import numpy as np\n",
    "lst = [3,5,7,8]\n",
    "array = np.array(lst)\n",
    "print(array.shape)\n",
    "print(array. dtype)"
   ]
  },
  {
   "cell_type": "code",
   "execution_count": 53,
   "metadata": {},
   "outputs": [
    {
     "name": "stdout",
     "output_type": "stream",
     "text": [
      "[[3 2 6]\n",
      " [2 4 5]]\n"
     ]
    },
    {
     "data": {
      "text/plain": [
       "array([[3, 2],\n",
       "       [6, 2],\n",
       "       [4, 5]])"
      ]
     },
     "execution_count": 53,
     "metadata": {},
     "output_type": "execute_result"
    }
   ],
   "source": [
    "a1 = np.array([(3,2,6),(2,4,5)])\n",
    "print(a1)\n",
    "a1.reshape(3,2)"
   ]
  },
  {
   "cell_type": "code",
   "execution_count": 34,
   "metadata": {},
   "outputs": [
    {
     "name": "stdout",
     "output_type": "stream",
     "text": [
      "(2, 3)\n"
     ]
    }
   ],
   "source": [
    "a1 = np.array([(3,2,1),(2,4,5)])\n",
    "print(a1.shape)"
   ]
  },
  {
   "cell_type": "code",
   "execution_count": 35,
   "metadata": {},
   "outputs": [
    {
     "name": "stdout",
     "output_type": "stream",
     "text": [
      "int32\n"
     ]
    }
   ],
   "source": [
    "a1 = np.array([(3,2,1),(2,4,5)])\n",
    "print(a1.dtype)"
   ]
  },
  {
   "cell_type": "code",
   "execution_count": 41,
   "metadata": {},
   "outputs": [
    {
     "name": "stdout",
     "output_type": "stream",
     "text": [
      "[[2 4 5]\n",
      " [3 2 1]]\n"
     ]
    }
   ],
   "source": [
    "a1 = np.array([2,4,5])\n",
    "a2 = np.array([3,2,1])\n",
    "print(np.vstack((a1,a2)))"
   ]
  },
  {
   "cell_type": "code",
   "execution_count": 42,
   "metadata": {},
   "outputs": [
    {
     "name": "stdout",
     "output_type": "stream",
     "text": [
      "[2 4 5 3 2 1]\n"
     ]
    }
   ],
   "source": [
    "a1 = np.array([2,4,5])\n",
    "a2 = np.array([3,2,1])\n",
    "print(np.hstack((a1,a2)))"
   ]
  },
  {
   "cell_type": "code",
   "execution_count": 55,
   "metadata": {},
   "outputs": [
    {
     "name": "stdout",
     "output_type": "stream",
     "text": [
      "[3.84379643 5.46265248 5.47835564 5.36414715]\n"
     ]
    }
   ],
   "source": [
    "a1 = np.random.normal([2,4,6,5])\n",
    "print(a1)"
   ]
  },
  {
   "cell_type": "code",
   "execution_count": 57,
   "metadata": {},
   "outputs": [
    {
     "name": "stdout",
     "output_type": "stream",
     "text": [
      "[[0.2104243  0.8488714  0.74366968 0.95863617]\n",
      " [0.74145035 0.13923004 0.74704184 0.68864282]]\n"
     ]
    }
   ],
   "source": [
    "a1=np.random.random([2,4])\n",
    "print(a1)                     "
   ]
  },
  {
   "cell_type": "code",
   "execution_count": 46,
   "metadata": {},
   "outputs": [
    {
     "data": {
      "text/plain": [
       "array([[0., 0., 0., 0.],\n",
       "       [0., 0., 0., 0.]])"
      ]
     },
     "execution_count": 46,
     "metadata": {},
     "output_type": "execute_result"
    }
   ],
   "source": [
    "np.zeros([2,4])"
   ]
  },
  {
   "cell_type": "code",
   "execution_count": 49,
   "metadata": {},
   "outputs": [
    {
     "data": {
      "text/plain": [
       "array([[0, 0, 0, 0],\n",
       "       [0, 0, 0, 0]], dtype=int64)"
      ]
     },
     "execution_count": 49,
     "metadata": {},
     "output_type": "execute_result"
    }
   ],
   "source": [
    "np.zeros([2,4],dtype=np.int64)"
   ]
  },
  {
   "cell_type": "code",
   "execution_count": 51,
   "metadata": {},
   "outputs": [
    {
     "data": {
      "text/plain": [
       "array([[1, 1, 1, 1],\n",
       "       [1, 1, 1, 1],\n",
       "       [1, 1, 1, 1],\n",
       "       [1, 1, 1, 1],\n",
       "       [1, 1, 1, 1],\n",
       "       [1, 1, 1, 1],\n",
       "       [1, 1, 1, 1],\n",
       "       [1, 1, 1, 1],\n",
       "       [1, 1, 1, 1]], dtype=int64)"
      ]
     },
     "execution_count": 51,
     "metadata": {},
     "output_type": "execute_result"
    }
   ],
   "source": [
    "# np.ones(shape,dtype=float,order='(')\n",
    "np.ones([9,4],dtype=np.int64)"
   ]
  },
  {
   "cell_type": "code",
   "execution_count": 60,
   "metadata": {},
   "outputs": [
    {
     "name": "stdout",
     "output_type": "stream",
     "text": [
      "[[ 1  1  1  1]\n",
      " [ 1  1  1 14]\n",
      " [ 1 16  1  1]\n",
      " [ 1  1  1  1]]\n"
     ]
    }
   ],
   "source": [
    "A=np.matrix(np.ones((4,4),dtype=np.int64))\n",
    "np.asarray(A)[1][3] = 14\n",
    "np.asarray(A)[2][1] = 16\n",
    "print(A)"
   ]
  },
  {
   "cell_type": "code",
   "execution_count": 61,
   "metadata": {},
   "outputs": [
    {
     "data": {
      "text/plain": [
       "array([2, 3, 4, 5, 6])"
      ]
     },
     "execution_count": 61,
     "metadata": {},
     "output_type": "execute_result"
    }
   ],
   "source": [
    "np.arange(2,7)"
   ]
  },
  {
   "cell_type": "code",
   "execution_count": 62,
   "metadata": {},
   "outputs": [
    {
     "data": {
      "text/plain": [
       "array([ 2,  9, 16, 23, 30, 37, 44])"
      ]
     },
     "execution_count": 62,
     "metadata": {},
     "output_type": "execute_result"
    }
   ],
   "source": [
    "np.arange(2,46,7)"
   ]
  },
  {
   "cell_type": "code",
   "execution_count": 98,
   "metadata": {},
   "outputs": [
    {
     "name": "stdout",
     "output_type": "stream",
     "text": [
      "first row: [3 2 2]\n"
     ]
    }
   ],
   "source": [
    "a = np.array([(3,2,1),(2,4,5),(2,5,7)])\n",
    "print(\"first row:\",a[:,0])"
   ]
  },
  {
   "cell_type": "code",
   "execution_count": 65,
   "metadata": {},
   "outputs": [
    {
     "name": "stdout",
     "output_type": "stream",
     "text": [
      "first row: 2\n"
     ]
    }
   ],
   "source": [
    "a = np.array([(3,2,1),(2,4,5)])\n",
    "print(\"first row:\",a[0][1])"
   ]
  },
  {
   "cell_type": "code",
   "execution_count": 90,
   "metadata": {},
   "outputs": [
    {
     "name": "stdout",
     "output_type": "stream",
     "text": [
      "first row: [[2 4 5]]\n"
     ]
    }
   ],
   "source": [
    "a = np.array([(3,2,1),(2,4,5)])\n",
    "print(\"first row:\",a[1:2])"
   ]
  },
  {
   "cell_type": "code",
   "execution_count": 72,
   "metadata": {},
   "outputs": [
    {
     "name": "stdout",
     "output_type": "stream",
     "text": [
      " row column: [3]\n"
     ]
    }
   ],
   "source": [
    "a = np.array([(3,2,1),(2,4,5)])\n",
    "print(\" row column:\",a[0,:1])"
   ]
  },
  {
   "cell_type": "code",
   "execution_count": 74,
   "metadata": {},
   "outputs": [
    {
     "name": "stdout",
     "output_type": "stream",
     "text": [
      "[2.10523491 3.85326827 8.2735046  7.48630018]\n",
      "min value =  2.1052349085346433\n",
      "max value =  8.27350460141942\n",
      "mean value =  5.429576989224493\n",
      "median value =  5.6697842234719555\n"
     ]
    }
   ],
   "source": [
    "#GD - GAUSSIAN distribution\n",
    "a1 = np.random.normal([2,4,6,9])\n",
    "print(a1)\n",
    "print(\"min value = \",np.min(a1))\n",
    "print(\"max value = \",np.max(a1))\n",
    "print(\"mean value = \",np.mean(a1))\n",
    "print(\"median value = \",np.median(a1))"
   ]
  },
  {
   "cell_type": "markdown",
   "metadata": {},
   "source": [
    "## multiply of 1D arrays"
   ]
  },
  {
   "cell_type": "code",
   "execution_count": 79,
   "metadata": {},
   "outputs": [
    {
     "data": {
      "text/plain": [
       "8"
      ]
     },
     "execution_count": 79,
     "metadata": {},
     "output_type": "execute_result"
    }
   ],
   "source": [
    "a1 = np.array([2,2])\n",
    "a2 = np.array([2,2])\n",
    "np.dot(a1,a2)"
   ]
  },
  {
   "cell_type": "code",
   "execution_count": 86,
   "metadata": {},
   "outputs": [
    {
     "data": {
      "text/plain": [
       "array([[4, 4],\n",
       "       [2, 7]])"
      ]
     },
     "execution_count": 86,
     "metadata": {},
     "output_type": "execute_result"
    }
   ],
   "source": [
    "a1 = np.array([(2,2),(1,4)])\n",
    "a2 = np.array([(2,2),(1,3)])\n",
    "np.add(a1,a2)"
   ]
  },
  {
   "cell_type": "code",
   "execution_count": 81,
   "metadata": {},
   "outputs": [
    {
     "data": {
      "text/plain": [
       "array([[ 6, 10],\n",
       "       [ 6, 14]])"
      ]
     },
     "execution_count": 81,
     "metadata": {},
     "output_type": "execute_result"
    }
   ],
   "source": [
    "a1 = np.array([(2,2),(1,4)])\n",
    "a2 = np.array([(2,2),(1,3)])\n",
    "np.matmul(a1,a2)"
   ]
  },
  {
   "cell_type": "code",
   "execution_count": 99,
   "metadata": {},
   "outputs": [
    {
     "data": {
      "text/plain": [
       "array([[ 6, 10],\n",
       "       [ 6, 14]])"
      ]
     },
     "execution_count": 99,
     "metadata": {},
     "output_type": "execute_result"
    }
   ],
   "source": [
    "a1 = np.array([(2,2),(1,4)])\n",
    "a2 = np.array([(2,2),(1,3)])\n",
    "np.dot(a1,a2)"
   ]
  },
  {
   "cell_type": "markdown",
   "metadata": {},
   "source": [
    "## import pandas as pd"
   ]
  },
  {
   "cell_type": "code",
   "execution_count": 104,
   "metadata": {},
   "outputs": [
    {
     "name": "stdout",
     "output_type": "stream",
     "text": [
      "  Name      EmailID  mobileNumber    Address\n",
      "0    a  a@gmail.com           123      jdsgf\n",
      "1    b  b@gmail.com          3455     dyfiuf\n",
      "2    c  c@gmail.com          2345   dgfffhfh\n",
      "3    d  d@gmail.com           345  hgferherh\n"
     ]
    }
   ],
   "source": [
    "import pandas as pd\n",
    "dict = {\"Name\":[\"a\",\"b\",\"c\",\"d\"],\n",
    "        \"EmailID\":[\"a@gmail.com\",\"b@gmail.com\",\"c@gmail.com\",\"d@gmail.com\"],\n",
    "        \"mobileNumber\":[123,3455,2345,345],\n",
    "       \"Address\":[\"jdsgf\",\"dyfiuf\",\"dgfffhfh\",\"hgferherh\"]}\n",
    "b = pd.DataFrame(dict)\n",
    "print(b)"
   ]
  },
  {
   "cell_type": "code",
   "execution_count": 106,
   "metadata": {},
   "outputs": [
    {
     "name": "stdout",
     "output_type": "stream",
     "text": [
      "  Name      EmailID  mobileNumber    Address\n",
      "1    a  a@gmail.com           123      jdsgf\n",
      "2    b  b@gmail.com          3455     dyfiuf\n",
      "3    c  c@gmail.com          2345   dgfffhfh\n",
      "4    d  d@gmail.com           345  hgferherh\n"
     ]
    }
   ],
   "source": [
    "b.index = [\"1\",\"2\",\"3\",\"4\"]\n",
    "print(b)"
   ]
  },
  {
   "cell_type": "code",
   "execution_count": null,
   "metadata": {},
   "outputs": [],
   "source": [
    "#super market.csv - analysis (which product having higher at selling)\n",
    "#which product have least selling %\n"
   ]
  }
 ],
 "metadata": {
  "kernelspec": {
   "display_name": "Python 3",
   "language": "python",
   "name": "python3"
  },
  "language_info": {
   "codemirror_mode": {
    "name": "ipython",
    "version": 3
   },
   "file_extension": ".py",
   "mimetype": "text/x-python",
   "name": "python",
   "nbconvert_exporter": "python",
   "pygments_lexer": "ipython3",
   "version": "3.7.3"
  }
 },
 "nbformat": 4,
 "nbformat_minor": 2
}
