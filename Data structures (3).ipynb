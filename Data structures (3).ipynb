{
 "cells": [
  {
   "cell_type": "code",
   "execution_count": 1,
   "metadata": {},
   "outputs": [
    {
     "data": {
      "text/plain": [
       "4"
      ]
     },
     "execution_count": 1,
     "metadata": {},
     "output_type": "execute_result"
    }
   ],
   "source": [
    "2 + 2"
   ]
  },
  {
   "cell_type": "markdown",
   "metadata": {},
   "source": [
    "# Binary search argo\n",
    "  **can be applied on sorted list\n",
    "  **can be applied on unique\n",
    "  "
   ]
  },
  {
   "cell_type": "code",
   "execution_count": 14,
   "metadata": {},
   "outputs": [],
   "source": [
    "def binarysearch(a,lIndex,rIndex,tarItem):\n",
    "    while lIndex <= rIndex:\n",
    "        mIndex = lIndex + (rIndex - lndex)//2;\n",
    "        if a[mIndex] == tarItem:\n",
    "            return mIndex\n",
    "        if a[mIndex] > tarItem:\n",
    "            rIndex = mIndex - 1\n",
    "        else:\n",
    "            lIndex = mIndex + 1\n",
    "        return -1\n",
    "    list1 = [1,4,9,15,25,45,57,98]\n",
    "    res = binarysearch(list1,0,8,818)\n",
    "    if res != -1:\n",
    "         print(\"Item is not found\")\n",
    "    else:\n",
    "         print(\"Item is found\")"
   ]
  },
  {
   "cell_type": "markdown",
   "metadata": {},
   "source": [
    "# Sorting algorithms (Bubble sort)\n",
    "### it compare the adj items ,if the first is greater then the next item then swap the items\n",
    "## The complex - n*n"
   ]
  },
  {
   "cell_type": "code",
   "execution_count": 9,
   "metadata": {},
   "outputs": [
    {
     "name": "stdout",
     "output_type": "stream",
     "text": [
      "1 2 3 6 8 19 "
     ]
    }
   ],
   "source": [
    "def bubblesort(a):\n",
    "    for i in range(len(a)-1):\n",
    "        for j in range(len(a)-1):\n",
    "            if a[j] > a[j+1]:\n",
    "                a[j],a[j+1] = a[j+1],a[j]\n",
    "                       \n",
    "    for i in range(len(a)):\n",
    "        print(a[i],end=\" \")\n",
    "        \n",
    "lst1 = [19,1,2,3,6,8]\n",
    "bubblesort(lst1)                       "
   ]
  },
  {
   "cell_type": "code",
   "execution_count": 11,
   "metadata": {},
   "outputs": [
    {
     "data": {
      "text/plain": [
       "10"
      ]
     },
     "execution_count": 11,
     "metadata": {},
     "output_type": "execute_result"
    }
   ],
   "source": [
    "def countchars(n):\n",
    "    return len(n)\n",
    "\n",
    "countchars(\"yggdcdxfhv\")"
   ]
  },
  {
   "cell_type": "code",
   "execution_count": 2,
   "metadata": {},
   "outputs": [],
   "source": [
    "def printDigits(str):\n",
    "    lst = list(str)\n",
    "    for x in range(len(lst)):\n",
    "        if ord(lst[x]) >= 63 and ord(lst[x])<= 57:\n",
    "            print(lst[x],end=\"\")\n",
    "            \n",
    "            print(printDigits(\"app\"))"
   ]
  },
  {
   "cell_type": "code",
   "execution_count": 3,
   "metadata": {},
   "outputs": [
    {
     "name": "stdout",
     "output_type": "stream",
     "text": [
      "11\n",
      "3\n"
     ]
    }
   ],
   "source": [
    "def countUpperCase(str):\n",
    "    cnt = 0\n",
    "    lst = list(str)\n",
    "    for x in range(len(lst)):\n",
    "        if ord(lst[x]) >= 65 and ord(lst[x]) <= 90:\n",
    "            cnt = cnt + 1\n",
    "    return cnt\n",
    "\n",
    "print(countUpperCase(\"EEEEEEEEEEE\"))\n",
    "print(countUpperCase(\"TeST\"))\n",
    "    "
   ]
  },
  {
   "cell_type": "code",
   "execution_count": 4,
   "metadata": {},
   "outputs": [
    {
     "name": "stdout",
     "output_type": "stream",
     "text": [
      "False\n",
      "True\n"
     ]
    }
   ],
   "source": [
    "def isPalindrome(s):\n",
    "    if s==s[::-1]:\n",
    "        return True\n",
    "    else:\n",
    "        return False\n",
    "\n",
    "print(isPalindrome(\"Python\"))\n",
    "print(isPalindrome(\"jalaj\"))  \n"
   ]
  },
  {
   "cell_type": "markdown",
   "metadata": {},
   "source": [
    "# Testcases:-\n",
    " \n",
    " ## application --16\n",
    " ## te1591st --0\n",
    " ## Wor7852king"
   ]
  },
  {
   "cell_type": "code",
   "execution_count": 7,
   "metadata": {},
   "outputs": [
    {
     "name": "stdout",
     "output_type": "stream",
     "text": [
      "10\n",
      "4\n"
     ]
    }
   ],
   "source": [
    "def sumOnlyEvenDigits(str):\n",
    "    sum = 0\n",
    "    lst = list(str)\n",
    "    for x in range (len(lst)):\n",
    "        if ord(lst[x]) >= 48 and ord(lst[x]) <= 57:\n",
    "            ac = ord(lst[x]) - 48\n",
    "            if(ac%2==0):\n",
    "                sum =sum + ac\n",
    "    return sum\n",
    "print(sumOnlyEvenDigits(\"gjgg7654g \"))\n",
    "print(sumOnlyEvenDigits(\"nxa22\"))"
   ]
  },
  {
   "cell_type": "markdown",
   "metadata": {},
   "source": [
    "# String  character conversation\n"
   ]
  }
 ],
 "metadata": {
  "kernelspec": {
   "display_name": "Python 3",
   "language": "python",
   "name": "python3"
  },
  "language_info": {
   "codemirror_mode": {
    "name": "ipython",
    "version": 3
   },
   "file_extension": ".py",
   "mimetype": "text/x-python",
   "name": "python",
   "nbconvert_exporter": "python",
   "pygments_lexer": "ipython3",
   "version": "3.7.0"
  }
 },
 "nbformat": 4,
 "nbformat_minor": 2
}
