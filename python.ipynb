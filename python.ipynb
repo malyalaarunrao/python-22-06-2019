{
 "cells": [
  {
   "cell_type": "code",
   "execution_count": 1,
   "metadata": {},
   "outputs": [
    {
     "data": {
      "text/plain": [
       "4"
      ]
     },
     "execution_count": 1,
     "metadata": {},
     "output_type": "execute_result"
    }
   ],
   "source": [
    "2 +2"
   ]
  },
  {
   "cell_type": "markdown",
   "metadata": {},
   "source": [
    "## Bolean methods\n",
    "\n",
    "\n",
    "is lower() - Method returns the output either true or false .if it is true \n",
    "\n",
    "isupper()--true or false\n",
    "\n",
    "islower()--true or false\n",
    "\n",
    "isnumeric()--true or false\n"
   ]
  },
  {
   "cell_type": "code",
   "execution_count": 3,
   "metadata": {},
   "outputs": [
    {
     "name": "stdout",
     "output_type": "stream",
     "text": [
      "False\n",
      "True\n"
     ]
    }
   ],
   "source": [
    "s = \"Application\"\n",
    "s1 = 'ANIL'\n",
    "print(s.isupper())\n",
    "print(s1.isupper())\n"
   ]
  },
  {
   "cell_type": "code",
   "execution_count": 4,
   "metadata": {},
   "outputs": [
    {
     "name": "stdout",
     "output_type": "stream",
     "text": [
      "True\n",
      "False\n"
     ]
    }
   ],
   "source": [
    "s = \"5678\"\n",
    "s1 =\"App1889\"\n",
    "print(s.isnumeric())\n",
    "print(s1.isnumeric())"
   ]
  },
  {
   "cell_type": "code",
   "execution_count": 7,
   "metadata": {},
   "outputs": [
    {
     "name": "stdout",
     "output_type": "stream",
     "text": [
      "False\n",
      "True\n"
     ]
    }
   ],
   "source": [
    "s = \"5678\"\n",
    "s1 =\"Appliation\"\n",
    "print(s.isalpha())\n",
    "print(s1.isalpha())\n"
   ]
  },
  {
   "cell_type": "markdown",
   "metadata": {},
   "source": [
    "### String Methods\n",
    "\n",
    "1.join():join() method will conncatinate two strings\n",
    "\n",
    "2.split()\n",
    "\n",
    "3.Replace()"
   ]
  },
  {
   "cell_type": "code",
   "execution_count": 8,
   "metadata": {},
   "outputs": [
    {
     "name": "stdout",
     "output_type": "stream",
     "text": [
      "['python', 'programming', 'is', 'easy', 'to', 'learn']\n",
      "['python progra', '', 'ing is easy to learn']\n",
      "['python programming is easy to learn']\n"
     ]
    }
   ],
   "source": [
    "s=\"python programming is easy to learn\"\n",
    "print(s.split())\n",
    "print(s.split(\"m\"))\n",
    "print(s.split(\" , \"))\n"
   ]
  },
  {
   "cell_type": "code",
   "execution_count": 9,
   "metadata": {},
   "outputs": [
    {
     "name": "stdout",
     "output_type": "stream",
     "text": [
      "['python,programming ,is,easy ,to ,learn']\n"
     ]
    }
   ],
   "source": [
    "s=\"python,programming ,is,easy ,to ,learn\"\n",
    "print(s.split(\" , \"))"
   ]
  },
  {
   "cell_type": "markdown",
   "metadata": {},
   "source": [
    "# Python -- Tuples\n",
    "## A tuple of seq of objects is like list only\n",
    "## The differences of list and tuples are ,the tuples cannot be changed unlike list\n",
    "## Llist will use  [ ]\n",
    "## Tuples will use (  ) to hold objects\n",
    "## Tuples are useful for when the given input is only for read"
   ]
  },
  {
   "cell_type": "code",
   "execution_count": 10,
   "metadata": {},
   "outputs": [
    {
     "name": "stdout",
     "output_type": "stream",
     "text": [
      "('app', 'class', 1999, 5687, 'aaaa')\n",
      "(1, 2, 3, 4, 5)\n"
     ]
    }
   ],
   "source": [
    "t1=(\"app\",\"class\",1999,5687,\"aaaa\")\n",
    "t2=(1,2,3,4,5)\n",
    "print(t1)\n",
    "print(t2)"
   ]
  },
  {
   "cell_type": "code",
   "execution_count": 15,
   "metadata": {},
   "outputs": [
    {
     "name": "stdout",
     "output_type": "stream",
     "text": [
      "t1[0] =  app\n",
      "t1[1:-2] =  ('class', 1999)\n",
      "t1[1:3] =  ('class', 1999)\n"
     ]
    }
   ],
   "source": [
    "t1=(\"app\",\"class\",1999,5687,\"aaaa\")\n",
    "print(\"t1[0] = \",t1[0])\n",
    "print(\"t1[1:-2] = \",t1[1:-2])\n",
    "print(\"t1[1:3] = \",t1[1:3])"
   ]
  },
  {
   "cell_type": "code",
   "execution_count": null,
   "metadata": {},
   "outputs": [],
   "source": [
    "t1=(\"app\",\"class\",1999,5566,\"aaa\")\n",
    "print(t1)\n",
    "\n",
    "del (t1)"
   ]
  },
  {
   "cell_type": "code",
   "execution_count": 20,
   "metadata": {},
   "outputs": [
    {
     "name": "stdout",
     "output_type": "stream",
     "text": [
      "('app', 'class', 1999, 5687, 'aaaa', 'kjdcesj', 13, 34, 'dgdg')\n"
     ]
    }
   ],
   "source": [
    "t1=(\"app\",\"class\",1999,5687,\"aaaa\")\n",
    "t2=(\"kjdcesj\",13,34,\"dgdg\")\n",
    "t3=t1+t2\n",
    "print(t3)"
   ]
  },
  {
   "cell_type": "markdown",
   "metadata": {},
   "source": [
    "# len(tuple) :- len of the tuple\n",
    "# max(tuple) :- max value from tuple\n",
    "# min(tuple):-min value from tuple\n",
    "# cmp(tuple1,tuple2):-returns the value as 1 or -1"
   ]
  },
  {
   "cell_type": "code",
   "execution_count": 21,
   "metadata": {},
   "outputs": [
    {
     "name": "stdout",
     "output_type": "stream",
     "text": [
      "2\n"
     ]
    }
   ],
   "source": [
    "t1=(8,3,54,76,19,4,2)\n",
    "print(min(t1))"
   ]
  },
  {
   "cell_type": "code",
   "execution_count": 23,
   "metadata": {},
   "outputs": [
    {
     "name": "stdout",
     "output_type": "stream",
     "text": [
      "76\n"
     ]
    }
   ],
   "source": [
    "t1=(8,3,54,76,19,4,2)\n",
    "print(max(t1))"
   ]
  },
  {
   "cell_type": "code",
   "execution_count": 24,
   "metadata": {},
   "outputs": [],
   "source": [
    "t1=(8,3,54,76,19,4,2)\n",
    "t2=(1,4,7,8)"
   ]
  },
  {
   "cell_type": "code",
   "execution_count": null,
   "metadata": {},
   "outputs": [],
   "source": []
  }
 ],
 "metadata": {
  "kernelspec": {
   "display_name": "Python 3",
   "language": "python",
   "name": "python3"
  },
  "language_info": {
   "codemirror_mode": {
    "name": "ipython",
    "version": 3
   },
   "file_extension": ".py",
   "mimetype": "text/x-python",
   "name": "python",
   "nbconvert_exporter": "python",
   "pygments_lexer": "ipython3",
   "version": "3.7.0"
  }
 },
 "nbformat": 4,
 "nbformat_minor": 2
}
